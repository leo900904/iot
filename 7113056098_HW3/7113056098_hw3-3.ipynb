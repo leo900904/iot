{
 "cells": [
  {
   "cell_type": "markdown",
   "metadata": {
    "id": "ETaOJz_V360A"
   },
   "source": [
    "prompt：\n",
    "\n",
    "Create a Python script that uses Streamlit to build an interactive web application where users can adjust three parameters using sliders:\n",
    "\n",
    "The number of data points (between 100 and 1000).\n",
    "The variance of the dataset (between 1 and 20).\n",
    "The distance threshold for classifying points as Y=0 or Y=1 based on their distance from the origin (between 2 and 10).\n",
    "The dataset should consist of 2D points randomly generated using a normal distribution centered at (0,0) with the specified variance. For each point, calculate its distance from the origin and assign a label Y=0 if the distance is less than the threshold and Y=1 if the distance is greater than or equal to the threshold.\n",
    "\n",
    "Use a Support Vector Machine (SVM) with an RBF kernel to classify the points. After training the SVM, plot the decision boundary in a 3D space, with the x-axis representing the first feature, the y-axis representing the second feature, and the z-axis representing the decision function.\n",
    "\n",
    "The plot should display:\n",
    "\n",
    "A 3D scatter plot of the dataset, with points labeled as Y=0 in blue and Y=1 in red.\n",
    "A decision surface showing how the SVM separates the two classes.\n",
    "Clear axis labels and a legend distinguishing the two classes.\n",
    "Additionally, include the following:\n",
    "\n",
    "Use Streamlit’s sidebar for user controls to adjust the number of samples, variance, and distance threshold.\n",
    "Dynamically update the plot when any of the sliders are adjusted.\n",
    "Provide the full Streamlit app code, making sure to include necessary libraries such as streamlit, numpy, matplotlib, scikit-learn, and mpl_toolkits.mplot3d.\""
   ]
  },
  {
   "cell_type": "code",
   "execution_count": 4,
   "metadata": {
    "colab": {
     "base_uri": "https://localhost:8080/"
    },
    "id": "oACD6GnOE-Fk",
    "outputId": "0a469135-063d-4894-dd9f-3bd35094b099"
   },
   "outputs": [
    {
     "name": "stdout",
     "output_type": "stream",
     "text": [
      "\u001b[K\u001b[?25h\n",
      "up to date, audited 23 packages in 538ms\n",
      "\n",
      "3 packages are looking for funding\n",
      "  run `npm fund` for details\n",
      "\n",
      "2 \u001b[33m\u001b[1mmoderate\u001b[22m\u001b[39m severity vulnerabilities\n",
      "\n",
      "To address all issues (including breaking changes), run:\n",
      "  npm audit fix --force\n",
      "\n",
      "Run `npm audit` for details.\n",
      "34.127.50.54\n"
     ]
    }
   ],
   "source": [
    "# Install required packages\n",
    "!pip install streamlit -q\n",
    "!npm install localtunnel\n",
    "\n",
    "# Get your public IP (optional, useful for debugging or info)\n",
    "!wget -q -O - ipv4.icanhazip.com\n"
   ]
  },
  {
   "cell_type": "code",
   "execution_count": 5,
   "metadata": {
    "colab": {
     "base_uri": "https://localhost:8080/"
    },
    "id": "_7nr-FRA3jlO",
    "outputId": "3bce65db-1626-4d42-c2a2-a8fa915cf3ab"
   },
   "outputs": [
    {
     "name": "stdout",
     "output_type": "stream",
     "text": [
      "Overwriting app.py\n"
     ]
    }
   ],
   "source": [
    "# Write your Streamlit app code to 'app.py' file\n",
    "%%writefile app.py\n",
    "\n",
    "import streamlit as st\n",
    "import numpy as np\n",
    "import matplotlib.pyplot as plt\n",
    "from mpl_toolkits.mplot3d import Axes3D\n",
    "from sklearn.svm import SVC\n",
    "from sklearn.preprocessing import StandardScaler\n",
    "from sklearn.pipeline import make_pipeline\n",
    "\n",
    "# 生成數據點\n",
    "def generate_data(n_samples=600, mean=[0, 0], var=10):\n",
    "    np.random.seed(42)\n",
    "    cov = [[var, 0], [0, var]]\n",
    "    X = np.random.multivariate_normal(mean, cov, n_samples)\n",
    "    distances = np.sqrt(X[:, 0]**2 + X[:, 1]**2)\n",
    "    Y = np.where(distances < 4, 0, 1)\n",
    "    return X, Y\n",
    "\n",
    "# 訓練 SVM 模型 (RBF 核)\n",
    "def fit_svm(X, Y):\n",
    "    model = make_pipeline(StandardScaler(), SVC(kernel='rbf', gamma='auto', C=1.0))\n",
    "    model.fit(X, Y)\n",
    "    return model\n",
    "\n",
    "# 繪製 3D 決策邊界\n",
    "def plot_decision_boundary_3d(X, Y, model):\n",
    "    fig = plt.figure(figsize=(10, 8))\n",
    "    ax = fig.add_subplot(111, projection='3d')\n",
    "\n",
    "    x_min, x_max = X[:, 0].min() - 1, X[:, 0].max() + 1\n",
    "    y_min, y_max = X[:, 1].min() - 1, X[:, 1].max() + 1\n",
    "    xx, yy = np.meshgrid(np.linspace(x_min, x_max, 100),\n",
    "                         np.linspace(y_min, y_max, 100))\n",
    "\n",
    "    Z = model.decision_function(np.c_[xx.ravel(), yy.ravel()])\n",
    "    Z = Z.reshape(xx.shape)\n",
    "\n",
    "    ax.scatter(X[Y == 0, 0], X[Y == 0, 1], Y[Y == 0], color='blue', label='Y=0', alpha=0.6)\n",
    "    ax.scatter(X[Y == 1, 0], X[Y == 1, 1], Y[Y == 1], color='red', label='Y=1', alpha=0.6)\n",
    "\n",
    "    ax.plot_surface(xx, yy, Z, rstride=1, cstride=1, alpha=0.3, cmap='coolwarm', edgecolor='none')\n",
    "    ax.contourf(xx, yy, Z, zdir='z', offset=-1, cmap='coolwarm', alpha=0.3)\n",
    "\n",
    "    ax.set_xlabel(\"Feature 1\")\n",
    "    ax.set_ylabel(\"Feature 2\")\n",
    "    ax.set_zlabel(\"Decision Function\")\n",
    "    ax.set_title(\"SVM with RBF Kernel - 3D Decision Boundary\")\n",
    "    ax.legend(loc=\"upper right\")\n",
    "    return fig\n",
    "\n",
    "# Streamlit 互動介面\n",
    "st.title(\"2D SVM with RBF Kernel - Interactive 3D Plot\")\n",
    "\n",
    "# 加入側邊欄 slider 控制\n",
    "n_samples = st.sidebar.slider(\"Number of Samples\", 100, 1000, 600)\n",
    "variance = st.sidebar.slider(\"Variance\", 1, 20, 10)\n",
    "distance_threshold = st.sidebar.slider(\"Distance Threshold\", 2, 10, 4)\n",
    "\n",
    "# 生成數據並訓練模型\n",
    "X, Y = generate_data(n_samples=n_samples, var=variance)\n",
    "svm_model = fit_svm(X, Y)\n",
    "\n",
    "# 生成並顯示 3D 圖表\n",
    "fig = plot_decision_boundary_3d(X, Y, svm_model)\n",
    "st.pyplot(fig)\n",
    "\n",
    "st.write(f\"Generated dataset with {n_samples} samples, Variance = {variance}, Distance Threshold = {distance_threshold}\")\n"
   ]
  },
  {
   "cell_type": "code",
   "execution_count": null,
   "metadata": {
    "colab": {
     "base_uri": "https://localhost:8080/"
    },
    "id": "qbnRIRf3FHIC",
    "outputId": "3e1f2f4f-b515-4fdc-ec12-65affbb512f2"
   },
   "outputs": [
    {
     "name": "stdout",
     "output_type": "stream",
     "text": [
      "your url is: https://young-carrots-knock.loca.lt\n",
      "\n",
      "Collecting usage statistics. To deactivate, set browser.gatherUsageStats to false.\n",
      "\u001b[0m\n",
      "\u001b[0m\n",
      "\u001b[34m\u001b[1m  You can now view your Streamlit app in your browser.\u001b[0m\n",
      "\u001b[0m\n",
      "\u001b[34m  Local URL: \u001b[0m\u001b[1mhttp://localhost:8501\u001b[0m\n",
      "\u001b[34m  Network URL: \u001b[0m\u001b[1mhttp://172.28.0.12:8501\u001b[0m\n",
      "\u001b[34m  External URL: \u001b[0m\u001b[1mhttp://34.127.50.54:8501\u001b[0m\n",
      "\u001b[0m\n"
     ]
    }
   ],
   "source": [
    "\n",
    "# 啟動 Streamlit 及本地隧道\n",
    "!streamlit run app.py & npx localtunnel --port 8501 --allow-invalid-hostnames"
   ]
  },
  {
   "cell_type": "markdown",
   "metadata": {
    "id": "hMfxLsgp6Ok2"
   },
   "source": [
    "![圖片1.png](data:image/png;base64,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)"
   ]
  }
 ],
 "metadata": {
  "colab": {
   "provenance": []
  },
  "kernelspec": {
   "display_name": "Python 3",
   "name": "python3"
  },
  "language_info": {
   "name": "python"
  }
 },
 "nbformat": 4,
 "nbformat_minor": 0
}
