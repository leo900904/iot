{
  "nbformat": 4,
  "nbformat_minor": 0,
  "metadata": {
    "colab": {
      "provenance": [],
      "gpuType": "T4"
    },
    "kernelspec": {
      "name": "python3",
      "display_name": "Python 3"
    },
    "language_info": {
      "name": "python"
    },
    "accelerator": "GPU"
  },
  "cells": [
    {
      "cell_type": "markdown",
      "source": [
        "Prompt:\n",
        "\n",
        "撰寫一段 Python 程式碼，用於遷移學習（Transfer Learning）基於預訓練的 VGG16 模型進行口罩檢測。具體要求如下：\n",
        "\n",
        "下載數據集：\n",
        "\n",
        "自動從 GitHub 仓库 Face-Mask-Detection 克隆數據集。\n",
        "建立遷移學習模型：\n",
        "\n",
        "使用 TensorFlow/Keras，載入預訓練的 VGG16 模型（不包括頂層）。\n",
        "添加自定義的全連接層，以進行二分類（戴口罩與未戴口罩）。\n",
        "凍結 VGG16 的卷積層，僅訓練自定義層。\n",
        "資料預處理與模型訓練：\n",
        "\n",
        "使用 ImageDataGenerator 進行資料增強，將數據集分為訓練集與驗證集。\n",
        "將圖片調整為大小為 224x224，並進行歸一化處理。\n",
        "訓練模型並輸出訓練過程。\n",
        "實現圖片分類功能：\n",
        "\n",
        "寫一個函數 classify_image，可接受圖片 URL，下載圖片並進行預測，返回圖片所屬類別及置信度。\n",
        "支持實時輸入圖片 URL 並輸出結果。\n",
        "簡易介面：\n",
        "\n",
        "提供一個循環輸入的功能，允許用戶不斷輸入圖片 URL，並進行分類。\n",
        "提供選項輸入 \"exit\" 來結束程式。\n",
        "程式碼應使用清晰的結構並包含必要的錯誤處理。\n",
        "\n",
        "生成的程式碼應符合以下條件：\n",
        "\n",
        "使用 TensorFlow/Keras 作為框架。\n",
        "包含完整的數據處理、模型建立、訓練與測試功能。\n",
        "支援從 GitHub 自動下載數據集。\n",
        "實現簡易用戶輸入界面進行即時圖片分類。"
      ],
      "metadata": {
        "id": "G0lw6nfMMwgv"
      }
    },
    {
      "cell_type": "code",
      "source": [
        "!git clone https://github.com/chandrikadeb7/Face-Mask-Detection.git\n"
      ],
      "metadata": {
        "colab": {
          "base_uri": "https://localhost:8080/"
        },
        "id": "3ujS0TRN6t-o",
        "outputId": "03cebe05-aeac-48ac-f0df-b86d8560fccf"
      },
      "execution_count": 13,
      "outputs": [
        {
          "output_type": "stream",
          "name": "stdout",
          "text": [
            "fatal: destination path 'Face-Mask-Detection' already exists and is not an empty directory.\n"
          ]
        }
      ]
    },
    {
      "cell_type": "code",
      "execution_count": 14,
      "metadata": {
        "colab": {
          "base_uri": "https://localhost:8080/"
        },
        "id": "wmUM15o_30ym",
        "outputId": "6aa61365-480a-4a1a-c69a-b91d8e550739"
      },
      "outputs": [
        {
          "output_type": "stream",
          "name": "stdout",
          "text": [
            "Found 3274 images belonging to 2 classes.\n",
            "Found 818 images belonging to 2 classes.\n",
            "Epoch 1/10\n"
          ]
        },
        {
          "output_type": "stream",
          "name": "stderr",
          "text": [
            "/usr/local/lib/python3.10/dist-packages/keras/src/trainers/data_adapters/py_dataset_adapter.py:122: UserWarning: Your `PyDataset` class should call `super().__init__(**kwargs)` in its constructor. `**kwargs` can include `workers`, `use_multiprocessing`, `max_queue_size`. Do not pass these arguments to `fit()`, as they will be ignored.\n",
            "  self._warn_if_super_not_called()\n"
          ]
        },
        {
          "output_type": "stream",
          "name": "stdout",
          "text": [
            "\u001b[1m 35/103\u001b[0m \u001b[32m━━━━━━\u001b[0m\u001b[37m━━━━━━━━━━━━━━\u001b[0m \u001b[1m29s\u001b[0m 434ms/step - accuracy: 0.6668 - loss: 2.4893"
          ]
        },
        {
          "output_type": "stream",
          "name": "stderr",
          "text": [
            "/usr/local/lib/python3.10/dist-packages/PIL/Image.py:1054: UserWarning: Palette images with Transparency expressed in bytes should be converted to RGBA images\n",
            "  warnings.warn(\n"
          ]
        },
        {
          "output_type": "stream",
          "name": "stdout",
          "text": [
            "\u001b[1m103/103\u001b[0m \u001b[32m━━━━━━━━━━━━━━━━━━━━\u001b[0m\u001b[37m\u001b[0m \u001b[1m89s\u001b[0m 679ms/step - accuracy: 0.7682 - loss: 1.3738 - val_accuracy: 0.9670 - val_loss: 0.1081\n",
            "Epoch 2/10\n",
            "\u001b[1m103/103\u001b[0m \u001b[32m━━━━━━━━━━━━━━━━━━━━\u001b[0m\u001b[37m\u001b[0m \u001b[1m109s\u001b[0m 515ms/step - accuracy: 0.9330 - loss: 0.1882 - val_accuracy: 0.9511 - val_loss: 0.1358\n",
            "Epoch 3/10\n",
            "\u001b[1m103/103\u001b[0m \u001b[32m━━━━━━━━━━━━━━━━━━━━\u001b[0m\u001b[37m\u001b[0m \u001b[1m56s\u001b[0m 516ms/step - accuracy: 0.9430 - loss: 0.1572 - val_accuracy: 0.9670 - val_loss: 0.0803\n",
            "Epoch 4/10\n",
            "\u001b[1m103/103\u001b[0m \u001b[32m━━━━━━━━━━━━━━━━━━━━\u001b[0m\u001b[37m\u001b[0m \u001b[1m57s\u001b[0m 517ms/step - accuracy: 0.9415 - loss: 0.1498 - val_accuracy: 0.9743 - val_loss: 0.0762\n",
            "Epoch 5/10\n",
            "\u001b[1m103/103\u001b[0m \u001b[32m━━━━━━━━━━━━━━━━━━━━\u001b[0m\u001b[37m\u001b[0m \u001b[1m92s\u001b[0m 631ms/step - accuracy: 0.9495 - loss: 0.1415 - val_accuracy: 0.9682 - val_loss: 0.0799\n",
            "Epoch 6/10\n",
            "\u001b[1m103/103\u001b[0m \u001b[32m━━━━━━━━━━━━━━━━━━━━\u001b[0m\u001b[37m\u001b[0m \u001b[1m71s\u001b[0m 516ms/step - accuracy: 0.9532 - loss: 0.1291 - val_accuracy: 0.9658 - val_loss: 0.0895\n",
            "Epoch 7/10\n",
            "\u001b[1m103/103\u001b[0m \u001b[32m━━━━━━━━━━━━━━━━━━━━\u001b[0m\u001b[37m\u001b[0m \u001b[1m81s\u001b[0m 516ms/step - accuracy: 0.9511 - loss: 0.1422 - val_accuracy: 0.9804 - val_loss: 0.0533\n",
            "Epoch 8/10\n",
            "\u001b[1m103/103\u001b[0m \u001b[32m━━━━━━━━━━━━━━━━━━━━\u001b[0m\u001b[37m\u001b[0m \u001b[1m83s\u001b[0m 515ms/step - accuracy: 0.9541 - loss: 0.1241 - val_accuracy: 0.9719 - val_loss: 0.0842\n",
            "Epoch 9/10\n",
            "\u001b[1m103/103\u001b[0m \u001b[32m━━━━━━━━━━━━━━━━━━━━\u001b[0m\u001b[37m\u001b[0m \u001b[1m82s\u001b[0m 528ms/step - accuracy: 0.9554 - loss: 0.1216 - val_accuracy: 0.9487 - val_loss: 0.1136\n",
            "Epoch 10/10\n",
            "\u001b[1m103/103\u001b[0m \u001b[32m━━━━━━━━━━━━━━━━━━━━\u001b[0m\u001b[37m\u001b[0m \u001b[1m82s\u001b[0m 515ms/step - accuracy: 0.9492 - loss: 0.1359 - val_accuracy: 0.9743 - val_loss: 0.0585\n",
            "請輸入圖片 URL: https://na.cx/i/eqzQJYw.jpg\n",
            "\u001b[1m1/1\u001b[0m \u001b[32m━━━━━━━━━━━━━━━━━━━━\u001b[0m\u001b[37m\u001b[0m \u001b[1m2s\u001b[0m 2s/step\n",
            "預測類別: with_mask，信心值: 1.00\n"
          ]
        }
      ],
      "source": [
        "import tensorflow as tf\n",
        "from tensorflow.keras.models import Model\n",
        "from tensorflow.keras.layers import Dense, Flatten, Dropout\n",
        "from tensorflow.keras.applications import VGG16\n",
        "from tensorflow.keras.preprocessing.image import ImageDataGenerator\n",
        "from tensorflow.keras.utils import get_file\n",
        "import numpy as np\n",
        "import requests\n",
        "from PIL import Image\n",
        "from io import BytesIO\n",
        "import os\n",
        "\n",
        "# 步驟 0：下載數據集\n",
        "if not os.path.exists('Face-Mask-Detection'):\n",
        "    os.system('git clone https://github.com/chandrikadeb7/Face-Mask-Detection.git')\n",
        "\n",
        "data_dir = 'Face-Mask-Detection/dataset'\n",
        "\n",
        "# 步驟 1：載入預訓練的 VGG16 模型\n",
        "base_model = VGG16(weights='imagenet', include_top=False, input_shape=(224, 224, 3))\n",
        "\n",
        "# 凍結預訓練模型的卷積層\n",
        "for layer in base_model.layers:\n",
        "    layer.trainable = False\n",
        "\n",
        "# 添加自訂的全連接層\n",
        "x = Flatten()(base_model.output)\n",
        "x = Dense(256, activation='relu')(x)\n",
        "x = Dropout(0.5)(x)\n",
        "out = Dense(2, activation='softmax')(x)  # 兩個類別\n",
        "\n",
        "# 建立新模型\n",
        "model = Model(inputs=base_model.input, outputs=out)\n",
        "model.compile(optimizer='adam', loss='categorical_crossentropy', metrics=['accuracy'])\n",
        "\n",
        "# 步驟 2：使用醫療口罩數據集進行訓練\n",
        "# 資料預處理\n",
        "train_datagen = ImageDataGenerator(\n",
        "    rescale=1.0/255,\n",
        "    rotation_range=20,\n",
        "    width_shift_range=0.2,\n",
        "    height_shift_range=0.2,\n",
        "    shear_range=0.2,\n",
        "    zoom_range=0.2,\n",
        "    horizontal_flip=True,\n",
        "    validation_split=0.2\n",
        ")\n",
        "\n",
        "train_data = train_datagen.flow_from_directory(\n",
        "    data_dir,  # 確保這個路徑包含訓練數據\n",
        "    target_size=(224, 224),\n",
        "    batch_size=32,\n",
        "    class_mode='categorical',\n",
        "    subset='training'\n",
        ")\n",
        "\n",
        "val_data = train_datagen.flow_from_directory(\n",
        "    data_dir,\n",
        "    target_size=(224, 224),\n",
        "    batch_size=32,\n",
        "    class_mode='categorical',\n",
        "    subset='validation'\n",
        ")\n",
        "\n",
        "# 訓練模型\n",
        "history = model.fit(\n",
        "    train_data,\n",
        "    validation_data=val_data,\n",
        "    epochs=10\n",
        ")\n",
        "\n",
        "# 步驟 3：允許使用 HTTP 圖片進行分類\n",
        "def classify_image(image_url):\n",
        "    try:\n",
        "        response = requests.get(image_url)\n",
        "        response.raise_for_status()\n",
        "        img = Image.open(BytesIO(response.content)).convert('RGB')\n",
        "        img = img.resize((224, 224))\n",
        "        img_array = np.array(img) / 255.0\n",
        "        img_array = np.expand_dims(img_array, axis=0)\n",
        "\n",
        "        # 預測類別\n",
        "        predictions = model.predict(img_array)\n",
        "        class_idx = np.argmax(predictions)\n",
        "        class_label = list(train_data.class_indices.keys())[class_idx]\n",
        "        return f\"預測類別: {class_label}，信心值: {predictions[0][class_idx]:.2f}\"\n",
        "    except Exception as e:\n",
        "        return f\"無法處理圖片: {e}\"\n",
        "\n",
        "# 測試分類功能\n",
        "def test_image(image_url, model, class_labels):\n",
        "    try:\n",
        "        response = requests.get(image_url)\n",
        "        response.raise_for_status()\n",
        "        img = Image.open(BytesIO(response.content)).convert('RGB')\n",
        "        img = img.resize((224, 224))\n",
        "        img_array = np.array(img) / 255.0\n",
        "        img_array = np.expand_dims(img_array, axis=0)\n",
        "\n",
        "        # 預測類別\n",
        "        predictions = model.predict(img_array)\n",
        "        class_idx = np.argmax(predictions)\n",
        "        class_label = class_labels[class_idx]\n",
        "        print(f\"預測類別: {class_label}，信心值: {predictions[0][class_idx]:.2f}\")\n",
        "    except Exception as e:\n",
        "        print(f\"無法處理圖片: {e}\")\n",
        "\n",
        "image_url = input(\"請輸入圖片 URL: \")\n",
        "test_image(image_url, model, list(train_data.class_indices.keys()))\n"
      ]
    },
    {
      "cell_type": "markdown",
      "source": [
        "戴口罩的圖片 (with_mask)\n",
        "1.\thttps://raw.githubusercontent.com/chandrikadeb7/Face-Mask-Detection/master/dataset/with_mask/0129.png\n",
        "2.\thttps://raw.githubusercontent.com/chandrikadeb7/Face-Mask-Detection/master/dataset/with_mask/0323.jpg\n",
        "3.\thttps://raw.githubusercontent.com/chandrikadeb7/Face-Mask-Detection/master/dataset/with_mask/0417.jpg\n",
        "4.\thttps://raw.githubusercontent.com/chandrikadeb7/Face-Mask-Detection/master/dataset/with_mask/0502.png\n",
        "5.\thttps://raw.githubusercontent.com/chandrikadeb7/Face-Mask-Detection/master/dataset/with_mask/0803.jpg\n",
        "6.\thttps://raw.githubusercontent.com/chandrikadeb7/Face-Mask-Detection/master/dataset/with_mask/0932.jpg\n",
        "7.\thttps://raw.githubusercontent.com/chandrikadeb7/Face-Mask-Detection/master/dataset/with_mask/0999.png\n",
        "8.\thttps://raw.githubusercontent.com/chandrikadeb7/Face-Mask-Detection/master/dataset/with_mask/0_0_0%20copy%2010.jpg\n",
        "9.\thttps://raw.githubusercontent.com/chandrikadeb7/Face-Mask-Detection/master/dataset/with_mask/0_0_0%20copy%2011.jpg\n",
        "10.\thttps://raw.githubusercontent.com/chandrikadeb7/Face-Mask-Detection/master/dataset/with_mask/0_0_0%20copy%2012.jpg\n",
        "\n"
      ],
      "metadata": {
        "id": "4uUCc4WBMOcv"
      }
    },
    {
      "cell_type": "markdown",
      "source": [
        "未戴口罩的圖片 (without_mask)\n",
        "1.\thttps://raw.githubusercontent.com/chandrikadeb7/Face-Mask-Detection/master/dataset/without_mask/0.jpg\n",
        "2.\thttps://raw.githubusercontent.com/chandrikadeb7/Face-Mask-Detection/master/dataset/without_mask/0_0_aidai_0014.jpg\n",
        "3.\thttps://raw.githubusercontent.com/chandrikadeb7/Face-Mask-Detection/master/dataset/without_mask/0_0_aidai_0029.jpg\n",
        "4.\thttps://raw.githubusercontent.com/chandrikadeb7/Face-Mask-Detection/master/dataset/without_mask/0_0_aidai_0043.jpg\n",
        "5.\thttps://raw.githubusercontent.com/chandrikadeb7/Face-Mask-Detection/master/dataset/without_mask/0_0_aidai_0074.jpg\n",
        "6.\thttps://raw.githubusercontent.com/chandrikadeb7/Face-Mask-Detection/master/dataset/without_mask/0_0_aidai_0084.jpg\n",
        "7.\thttps://raw.githubusercontent.com/chandrikadeb7/Face-Mask-Detection/master/dataset/without_mask/0_0_aidai_0136.jpg\n",
        "8.\thttps://raw.githubusercontent.com/chandrikadeb7/Face-Mask-Detection/master/dataset/without_mask/0_0_anhu_0004.jpg\n",
        "9.\thttps://raw.githubusercontent.com/chandrikadeb7/Face-Mask-Detection/master/dataset/without_mask/0_0_anhu_0020.jpg\n",
        "10.\thttps://raw.githubusercontent.com/chandrikadeb7/Face-Mask-Detection/master/dataset/without_mask/0_0_anhu_0025.jpg\n",
        "\n"
      ],
      "metadata": {
        "id": "hu__UFKgMTkf"
      }
    },
    {
      "cell_type": "code",
      "source": [
        "# 簡易介面\n",
        "while True:\n",
        "    image_url = input(\"請輸入圖片 URL (或輸入 'exit' 結束): \")\n",
        "    if image_url.lower() == 'exit':\n",
        "        print(\"結束程式。\")\n",
        "        break\n",
        "    test_image(image_url, model, list(train_data.class_indices.keys()))\n"
      ],
      "metadata": {
        "colab": {
          "base_uri": "https://localhost:8080/"
        },
        "id": "rHZbelTbH3nj",
        "outputId": "63f1fa49-47cc-43db-e9d6-8aca250d5700"
      },
      "execution_count": 19,
      "outputs": [
        {
          "output_type": "stream",
          "name": "stdout",
          "text": [
            "請輸入圖片 URL (或輸入 'exit' 結束): https://raw.githubusercontent.com/chandrikadeb7/Face-Mask-Detection/master/dataset/without_mask/0.jpg\n",
            "\u001b[1m1/1\u001b[0m \u001b[32m━━━━━━━━━━━━━━━━━━━━\u001b[0m\u001b[37m\u001b[0m \u001b[1m0s\u001b[0m 17ms/step\n",
            "預測類別: with_mask，信心值: 0.72\n",
            "請輸入圖片 URL (或輸入 'exit' 結束): https://raw.githubusercontent.com/chandrikadeb7/Face-Mask-Detection/master/dataset/without_mask/0_0_aidai_0084.jpg\n",
            "\u001b[1m1/1\u001b[0m \u001b[32m━━━━━━━━━━━━━━━━━━━━\u001b[0m\u001b[37m\u001b[0m \u001b[1m0s\u001b[0m 18ms/step\n",
            "預測類別: without_mask，信心值: 1.00\n",
            "請輸入圖片 URL (或輸入 'exit' 結束): https://raw.githubusercontent.com/chandrikadeb7/Face-Mask-Detection/master/dataset/without_mask/0_0_anhu_0025.jpg\n",
            "\u001b[1m1/1\u001b[0m \u001b[32m━━━━━━━━━━━━━━━━━━━━\u001b[0m\u001b[37m\u001b[0m \u001b[1m0s\u001b[0m 17ms/step\n",
            "預測類別: without_mask，信心值: 1.00\n",
            "請輸入圖片 URL (或輸入 'exit' 結束): https://raw.githubusercontent.com/chandrikadeb7/Face-Mask-Detection/master/dataset/with_mask/0_0_0%20copy%2012.jpg\n",
            "\u001b[1m1/1\u001b[0m \u001b[32m━━━━━━━━━━━━━━━━━━━━\u001b[0m\u001b[37m\u001b[0m \u001b[1m0s\u001b[0m 18ms/step\n",
            "預測類別: with_mask，信心值: 1.00\n",
            "請輸入圖片 URL (或輸入 'exit' 結束): https://raw.githubusercontent.com/chandrikadeb7/Face-Mask-Detection/master/dataset/with_mask/0932.jpg\n",
            "\u001b[1m1/1\u001b[0m \u001b[32m━━━━━━━━━━━━━━━━━━━━\u001b[0m\u001b[37m\u001b[0m \u001b[1m0s\u001b[0m 23ms/step\n",
            "預測類別: with_mask，信心值: 0.91\n",
            "請輸入圖片 URL (或輸入 'exit' 結束): https://raw.githubusercontent.com/chandrikadeb7/Face-Mask-Detection/master/dataset/with_mask/0999.png\n",
            "\u001b[1m1/1\u001b[0m \u001b[32m━━━━━━━━━━━━━━━━━━━━\u001b[0m\u001b[37m\u001b[0m \u001b[1m0s\u001b[0m 18ms/step\n",
            "預測類別: with_mask，信心值: 1.00\n",
            "請輸入圖片 URL (或輸入 'exit' 結束): exit\n",
            "結束程式。\n"
          ]
        }
      ]
    },
    {
      "cell_type": "markdown",
      "source": [
        "![image.png](data:image/png;base64,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)"
      ],
      "metadata": {
        "id": "YqgXWPxcMnK3"
      }
    },
    {
      "cell_type": "markdown",
      "source": [],
      "metadata": {
        "id": "WRuuPTEmMoBc"
      }
    }
  ]
}