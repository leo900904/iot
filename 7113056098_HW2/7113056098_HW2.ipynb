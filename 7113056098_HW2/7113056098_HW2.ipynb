{
  "nbformat": 4,
  "nbformat_minor": 0,
  "metadata": {
    "colab": {
      "provenance": []
    },
    "kernelspec": {
      "name": "python3",
      "display_name": "Python 3"
    },
    "language_info": {
      "name": "python"
    }
  },
  "cells": [
    {
      "cell_type": "markdown",
      "source": [
        "7113056098_HW2\n"
      ],
      "metadata": {
        "id": "VuD6nFGVt6P_"
      }
    },
    {
      "cell_type": "markdown",
      "source": [
        "![0.78229.png](data:image/png;base64,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)"
      ],
      "metadata": {
        "id": "X1RvLxGevv4_"
      }
    },
    {
      "cell_type": "markdown",
      "source": [
        "prompt：\n",
        "\n",
        "請先閱讀以下train DATA\n",
        "\n",
        "PassengerId\tSurvived\tPclass\tName\tSex\tAge\tSibSp\tParch\tTicket\tFare\tCabin\tEmbarked\n",
        "1\t0\t3\tBraund, Mr. Owen Harris\tmale\t22\t1\t0\tA/5 21171\t7.25\t\tS\n",
        "2\t1\t1\tCumings, Mrs. John Bradley (Florence Briggs Thayer)\tfemale\t38\t1\t0\tPC 17599\t71.2833\tC85\tC\n",
        "3\t1\t3\tHeikkinen, Miss. Laina\tfemale\t26\t0\t0\tSTON/O2. 3101282\t7.925\t\tS\n",
        "4\t1\t1\tFutrelle, Mrs. Jacques Heath (Lily May Peel)\tfemale\t35\t1\t0\t113803\t53.1\tC123\tS\n",
        "5\t0\t3\tAllen, Mr. William Henry\tmale\t35\t0\t0\t373450\t8.05\t\tS\n",
        "6\t0\t3\tMoran, Mr. James\tmale\t\t0\t0\t330877\t8.4583\t\tQ\n",
        "7\t0\t1\tMcCarthy, Mr. Timothy J\tmale\t54\t0\t0\t17463\t51.8625\tE46\tS\n"
      ],
      "metadata": {
        "id": "Jd9FEnVjr8Jv"
      }
    },
    {
      "cell_type": "markdown",
      "source": [
        "prompt：\n",
        "\n",
        "這是待會在模型訓練完之後\n",
        "要來predict的資料\n",
        "請想想待會python會要做什麼事情\n",
        "\n",
        "PassengerId\tPclass\tName\tSex\tAge\tSibSp\tParch\tTicket\tFare\tCabin\tEmbarked\n",
        "892\t3\tKelly, Mr. James\tmale\t34.5\t0\t0\t330911\t7.8292\t\tQ\n",
        "893\t3\tWilkes, Mrs. James (Ellen Needs)\tfemale\t47\t1\t0\t363272\t7\t\tS\n",
        "894\t2\tMyles, Mr. Thomas Francis\tmale\t62\t0\t0\t240276\t9.6875\t\tQ\n",
        "895\t3\tWirz, Mr. Albert\tmale\t27\t0\t0\t315154\t8.6625\t\tS\n",
        "896\t3\tHirvonen, Mrs. Alexander (Helga E Lindqvist)\tfemale\t22\t1\t1\t3101298\t12.2875\t\tS"
      ],
      "metadata": {
        "id": "FQhgFzvosEbO"
      }
    },
    {
      "cell_type": "markdown",
      "source": [
        "prompt：\n",
        "\n",
        "這是待會python最後要輸出的csv檔案內容要的樣子\n",
        "PassengerId\tSurvived\n",
        "892\t0\n",
        "893\t1\n",
        "894\t0\n",
        "895\t0\n",
        "896\t1\n",
        "897\t0\n",
        "898\t1\n"
      ],
      "metadata": {
        "id": "Zuc3QD70sSbt"
      }
    },
    {
      "cell_type": "markdown",
      "source": [
        "prompt：\n",
        "\n",
        "請給我在colab上執行的完整的python程式碼  \n",
        "運用到CRISP-DM 框架\n",
        "logistic regression和 confusion matrix\n",
        "資料來源請直接使用以下網址\n",
        "\n",
        "test.csv：\n",
        "https://drive.google.com/file/d/1ElpNdnL4qo0tryBi_5Z4nPI6_dXtPUo1/view?usp=drive_link\n",
        "train.csv：\n",
        "https://drive.google.com/file/d/1gp5BwDUJbWHyCAfVBrYn50hvhpCyIF-4/view?usp=sharing"
      ],
      "metadata": {
        "id": "DaMfZtL9sU5_"
      }
    },
    {
      "cell_type": "markdown",
      "source": [
        "Prompt:\n",
        "\n",
        "Create a Python script for the Titanic survival prediction task using the CRISP-DM framework, optimized for use in Google Colab. Use the train and test datasets from Google Drive, accessible via these URLs:\n",
        "\n",
        "Train dataset: https://drive.google.com/uc?id=1gp5BwDUJbWHyCAfVBrYn50hvhpCyIF-4\n",
        "\n",
        "Test dataset: https://drive.google.com/uc?id=1ElpNdnL4qo0tryBi_5Z4nPI6_dXtPUo1\n",
        "\n",
        "Follow these steps:\n",
        "\n",
        "Load and Preprocess Data: Import and read the datasets. Fill missing values in the 'Age' and 'Fare' columns with the median values, and fill 'Embarked' with the mode. Drop the 'Cabin' column. Use Label Encoding for categorical columns.\n",
        "Feature Engineering:\n",
        "Extract titles from names, replacing rare titles with 'Rare' and normalizing others like 'Ms' and 'Mme'.\n",
        "Create new features, FamilySize (sum of 'SibSp' and 'Parch' plus 1) and IsAlone (1 if FamilySize is 1, else 0).\n",
        "Feature Scaling: Standardize the features for improved model performance.\n",
        "Modeling and Hyperparameter Tuning:\n",
        "Split the data into training and validation sets (80/20 split).\n",
        "Use Random Forest Classifier with hyperparameter tuning via GridSearchCV. Optimize n_estimators, max_depth, and min_samples_split.\n",
        "Evaluation:\n",
        "Predict and evaluate on the validation set. Print accuracy and confusion matrix, then plot the confusion matrix using Seaborn.\n",
        "Prediction and Submission:\n",
        "Make predictions on the test set, and save results as \"titanic_predictions.csv\" with PassengerId and Survived columns.\n",
        "Make sure to include all relevant imports and comments for each step.\n"
      ],
      "metadata": {
        "id": "zk6hIV4ksJ0P"
      }
    },
    {
      "cell_type": "code",
      "execution_count": 2,
      "metadata": {
        "colab": {
          "base_uri": "https://localhost:8080/",
          "height": 1000
        },
        "id": "DpE4NuOoU6gJ",
        "outputId": "8025dd2d-fb49-4a3c-c79c-101f96732912"
      },
      "outputs": [
        {
          "output_type": "stream",
          "name": "stderr",
          "text": [
            "Downloading...\n",
            "From: https://drive.google.com/uc?id=1gp5BwDUJbWHyCAfVBrYn50hvhpCyIF-4\n",
            "To: /content/train.csv\n",
            "100%|██████████| 61.2k/61.2k [00:00<00:00, 58.3MB/s]\n",
            "Downloading...\n",
            "From: https://drive.google.com/uc?id=1ElpNdnL4qo0tryBi_5Z4nPI6_dXtPUo1\n",
            "To: /content/test.csv\n",
            "100%|██████████| 28.6k/28.6k [00:00<00:00, 39.1MB/s]\n"
          ]
        },
        {
          "output_type": "stream",
          "name": "stdout",
          "text": [
            "<class 'pandas.core.frame.DataFrame'>\n",
            "RangeIndex: 891 entries, 0 to 890\n",
            "Data columns (total 12 columns):\n",
            " #   Column       Non-Null Count  Dtype  \n",
            "---  ------       --------------  -----  \n",
            " 0   PassengerId  891 non-null    int64  \n",
            " 1   Survived     891 non-null    int64  \n",
            " 2   Pclass       891 non-null    int64  \n",
            " 3   Name         891 non-null    object \n",
            " 4   Sex          891 non-null    object \n",
            " 5   Age          714 non-null    float64\n",
            " 6   SibSp        891 non-null    int64  \n",
            " 7   Parch        891 non-null    int64  \n",
            " 8   Ticket       891 non-null    object \n",
            " 9   Fare         891 non-null    float64\n",
            " 10  Cabin        204 non-null    object \n",
            " 11  Embarked     889 non-null    object \n",
            "dtypes: float64(2), int64(5), object(5)\n",
            "memory usage: 83.7+ KB\n",
            "None\n",
            "       PassengerId    Survived      Pclass         Age       SibSp  \\\n",
            "count   891.000000  891.000000  891.000000  714.000000  891.000000   \n",
            "mean    446.000000    0.383838    2.308642   29.699118    0.523008   \n",
            "std     257.353842    0.486592    0.836071   14.526497    1.102743   \n",
            "min       1.000000    0.000000    1.000000    0.420000    0.000000   \n",
            "25%     223.500000    0.000000    2.000000   20.125000    0.000000   \n",
            "50%     446.000000    0.000000    3.000000   28.000000    0.000000   \n",
            "75%     668.500000    1.000000    3.000000   38.000000    1.000000   \n",
            "max     891.000000    1.000000    3.000000   80.000000    8.000000   \n",
            "\n",
            "            Parch        Fare  \n",
            "count  891.000000  891.000000  \n",
            "mean     0.381594   32.204208  \n",
            "std      0.806057   49.693429  \n",
            "min      0.000000    0.000000  \n",
            "25%      0.000000    7.910400  \n",
            "50%      0.000000   14.454200  \n",
            "75%      0.000000   31.000000  \n",
            "max      6.000000  512.329200  \n",
            "PassengerId      0\n",
            "Survived         0\n",
            "Pclass           0\n",
            "Name             0\n",
            "Sex              0\n",
            "Age            177\n",
            "SibSp            0\n",
            "Parch            0\n",
            "Ticket           0\n",
            "Fare             0\n",
            "Cabin          687\n",
            "Embarked         2\n",
            "dtype: int64\n"
          ]
        },
        {
          "output_type": "stream",
          "name": "stderr",
          "text": [
            "<ipython-input-2-7544e7abb4ed>:33: FutureWarning: A value is trying to be set on a copy of a DataFrame or Series through chained assignment using an inplace method.\n",
            "The behavior will change in pandas 3.0. This inplace method will never work because the intermediate object on which we are setting values always behaves as a copy.\n",
            "\n",
            "For example, when doing 'df[col].method(value, inplace=True)', try using 'df.method({col: value}, inplace=True)' or df[col] = df[col].method(value) instead, to perform the operation inplace on the original object.\n",
            "\n",
            "\n",
            "  train_df['Age'].fillna(train_df['Age'].median(), inplace=True)\n",
            "<ipython-input-2-7544e7abb4ed>:34: FutureWarning: A value is trying to be set on a copy of a DataFrame or Series through chained assignment using an inplace method.\n",
            "The behavior will change in pandas 3.0. This inplace method will never work because the intermediate object on which we are setting values always behaves as a copy.\n",
            "\n",
            "For example, when doing 'df[col].method(value, inplace=True)', try using 'df.method({col: value}, inplace=True)' or df[col] = df[col].method(value) instead, to perform the operation inplace on the original object.\n",
            "\n",
            "\n",
            "  train_df['Embarked'].fillna(train_df['Embarked'].mode()[0], inplace=True)\n",
            "<ipython-input-2-7544e7abb4ed>:36: FutureWarning: A value is trying to be set on a copy of a DataFrame or Series through chained assignment using an inplace method.\n",
            "The behavior will change in pandas 3.0. This inplace method will never work because the intermediate object on which we are setting values always behaves as a copy.\n",
            "\n",
            "For example, when doing 'df[col].method(value, inplace=True)', try using 'df.method({col: value}, inplace=True)' or df[col] = df[col].method(value) instead, to perform the operation inplace on the original object.\n",
            "\n",
            "\n",
            "  test_df['Age'].fillna(test_df['Age'].median(), inplace=True)\n",
            "<ipython-input-2-7544e7abb4ed>:37: FutureWarning: A value is trying to be set on a copy of a DataFrame or Series through chained assignment using an inplace method.\n",
            "The behavior will change in pandas 3.0. This inplace method will never work because the intermediate object on which we are setting values always behaves as a copy.\n",
            "\n",
            "For example, when doing 'df[col].method(value, inplace=True)', try using 'df.method({col: value}, inplace=True)' or df[col] = df[col].method(value) instead, to perform the operation inplace on the original object.\n",
            "\n",
            "\n",
            "  test_df['Fare'].fillna(test_df['Fare'].median(), inplace=True)\n",
            "<ipython-input-2-7544e7abb4ed>:49: FutureWarning: ChainedAssignmentError: behaviour will change in pandas 3.0!\n",
            "You are setting values through chained assignment. Currently this works in certain cases, but when using Copy-on-Write (which will become the default behaviour in pandas 3.0) this will never work to update the original DataFrame or Series, because the intermediate object on which we are setting values will behave as a copy.\n",
            "A typical example is when you are setting values in a column of a DataFrame, like:\n",
            "\n",
            "df[\"col\"][row_indexer] = value\n",
            "\n",
            "Use `df.loc[row_indexer, \"col\"] = values` instead, to perform the assignment in a single step and ensure this keeps updating the original `df`.\n",
            "\n",
            "See the caveats in the documentation: https://pandas.pydata.org/pandas-docs/stable/user_guide/indexing.html#returning-a-view-versus-a-copy\n",
            "\n",
            "  df['IsAlone'].loc[df['FamilySize'] > 1] = 0\n",
            "<ipython-input-2-7544e7abb4ed>:49: SettingWithCopyWarning: \n",
            "A value is trying to be set on a copy of a slice from a DataFrame\n",
            "\n",
            "See the caveats in the documentation: https://pandas.pydata.org/pandas-docs/stable/user_guide/indexing.html#returning-a-view-versus-a-copy\n",
            "  df['IsAlone'].loc[df['FamilySize'] > 1] = 0\n",
            "<ipython-input-2-7544e7abb4ed>:49: FutureWarning: ChainedAssignmentError: behaviour will change in pandas 3.0!\n",
            "You are setting values through chained assignment. Currently this works in certain cases, but when using Copy-on-Write (which will become the default behaviour in pandas 3.0) this will never work to update the original DataFrame or Series, because the intermediate object on which we are setting values will behave as a copy.\n",
            "A typical example is when you are setting values in a column of a DataFrame, like:\n",
            "\n",
            "df[\"col\"][row_indexer] = value\n",
            "\n",
            "Use `df.loc[row_indexer, \"col\"] = values` instead, to perform the assignment in a single step and ensure this keeps updating the original `df`.\n",
            "\n",
            "See the caveats in the documentation: https://pandas.pydata.org/pandas-docs/stable/user_guide/indexing.html#returning-a-view-versus-a-copy\n",
            "\n",
            "  df['IsAlone'].loc[df['FamilySize'] > 1] = 0\n",
            "<ipython-input-2-7544e7abb4ed>:49: SettingWithCopyWarning: \n",
            "A value is trying to be set on a copy of a slice from a DataFrame\n",
            "\n",
            "See the caveats in the documentation: https://pandas.pydata.org/pandas-docs/stable/user_guide/indexing.html#returning-a-view-versus-a-copy\n",
            "  df['IsAlone'].loc[df['FamilySize'] > 1] = 0\n"
          ]
        },
        {
          "output_type": "stream",
          "name": "stdout",
          "text": [
            "Confusion Matrix:\n",
            " [[92 13]\n",
            " [19 55]]\n",
            "Accuracy Score: 0.8212290502793296\n"
          ]
        },
        {
          "output_type": "display_data",
          "data": {
            "text/plain": [
              "<Figure size 600x400 with 2 Axes>"
            ],
            "image/png": "[encoded data removed]"
          },
          "metadata": {}
        },
        {
          "output_type": "stream",
          "name": "stdout",
          "text": [
            "Prediction completed and saved to 'titanic_predictions.csv'\n"
          ]
        }
      ],
      "source": [
        "# Step 1: Import libraries\n",
        "import pandas as pd\n",
        "import numpy as np\n",
        "from sklearn.model_selection import train_test_split, GridSearchCV, cross_val_score\n",
        "from sklearn.ensemble import RandomForestClassifier\n",
        "from sklearn.linear_model import LogisticRegression\n",
        "from sklearn.metrics import confusion_matrix, accuracy_score\n",
        "from sklearn.preprocessing import StandardScaler, LabelEncoder\n",
        "import seaborn as sns\n",
        "import matplotlib.pyplot as plt\n",
        "\n",
        "# Step 2: Download files using gdown\n",
        "!pip install -q gdown\n",
        "import gdown\n",
        "\n",
        "# Download train.csv and test.csv\n",
        "train_url = \"https://drive.google.com/uc?id=1gp5BwDUJbWHyCAfVBrYn50hvhpCyIF-4\"\n",
        "gdown.download(train_url, 'train.csv', quiet=False)\n",
        "test_url = \"https://drive.google.com/uc?id=1ElpNdnL4qo0tryBi_5Z4nPI6_dXtPUo1\"\n",
        "gdown.download(test_url, 'test.csv', quiet=False)\n",
        "\n",
        "# Load datasets\n",
        "train_df = pd.read_csv(\"train.csv\")\n",
        "test_df = pd.read_csv(\"test.csv\")\n",
        "\n",
        "# Step 3: Data Understanding\n",
        "print(train_df.info())\n",
        "print(train_df.describe())\n",
        "print(train_df.isnull().sum())\n",
        "\n",
        "# Step 4: Data Preparation\n",
        "# Fill missing values\n",
        "train_df['Age'].fillna(train_df['Age'].median(), inplace=True)\n",
        "train_df['Embarked'].fillna(train_df['Embarked'].mode()[0], inplace=True)\n",
        "train_df.drop('Cabin', axis=1, inplace=True)\n",
        "test_df['Age'].fillna(test_df['Age'].median(), inplace=True)\n",
        "test_df['Fare'].fillna(test_df['Fare'].median(), inplace=True)\n",
        "test_df.drop('Cabin', axis=1, inplace=True)\n",
        "\n",
        "# Feature Engineering: Extract Title and Create FamilySize\n",
        "for df in [train_df, test_df]:\n",
        "    df['Title'] = df['Name'].str.extract(' ([A-Za-z]+)\\.', expand=False)\n",
        "    df['Title'] = df['Title'].replace(['Lady', 'Countess', 'Capt', 'Col', 'Don', 'Dr', 'Major', 'Rev', 'Sir', 'Jonkheer', 'Dona'], 'Rare')\n",
        "    df['Title'] = df['Title'].replace('Mlle', 'Miss')\n",
        "    df['Title'] = df['Title'].replace('Ms', 'Miss')\n",
        "    df['Title'] = df['Title'].replace('Mme', 'Mrs')\n",
        "    df['FamilySize'] = df['SibSp'] + df['Parch'] + 1\n",
        "    df['IsAlone'] = 1  # IsAlone feature\n",
        "    df['IsAlone'].loc[df['FamilySize'] > 1] = 0\n",
        "\n",
        "# Encoding categorical features\n",
        "for df in [train_df, test_df]:\n",
        "    df['Sex'] = LabelEncoder().fit_transform(df['Sex'])\n",
        "    df['Embarked'] = LabelEncoder().fit_transform(df['Embarked'])\n",
        "    df['Title'] = LabelEncoder().fit_transform(df['Title'])\n",
        "\n",
        "# Selecting features\n",
        "features = ['Pclass', 'Sex', 'Age', 'SibSp', 'Parch', 'Fare', 'Embarked', 'Title', 'FamilySize', 'IsAlone']\n",
        "X = train_df[features]\n",
        "y = train_df['Survived']\n",
        "test_X = test_df[features]\n",
        "\n",
        "# Scaling features\n",
        "scaler = StandardScaler()\n",
        "X = scaler.fit_transform(X)\n",
        "test_X = scaler.transform(test_X)\n",
        "\n",
        "# Step 5: Model Training & Hyperparameter Tuning with GridSearchCV\n",
        "X_train, X_val, y_train, y_val = train_test_split(X, y, test_size=0.2, random_state=42)\n",
        "\n",
        "# Using RandomForest as an alternative model with tuned hyperparameters\n",
        "param_grid = {\n",
        "    'n_estimators': [100, 200, 500],\n",
        "    'max_depth': [5, 10, 20],\n",
        "    'min_samples_split': [2, 5, 10]\n",
        "}\n",
        "\n",
        "rf_model = RandomForestClassifier(random_state=42)\n",
        "grid_search = GridSearchCV(rf_model, param_grid, cv=5, scoring='accuracy')\n",
        "grid_search.fit(X_train, y_train)\n",
        "best_rf_model = grid_search.best_estimator_\n",
        "\n",
        "# Step 6: Evaluation on Validation Set\n",
        "y_val_pred = best_rf_model.predict(X_val)\n",
        "conf_matrix = confusion_matrix(y_val, y_val_pred)\n",
        "acc_score = accuracy_score(y_val, y_val_pred)\n",
        "\n",
        "print(\"Confusion Matrix:\\n\", conf_matrix)\n",
        "print(\"Accuracy Score:\", acc_score)\n",
        "\n",
        "# Plot Confusion Matrix\n",
        "plt.figure(figsize=(6,4))\n",
        "sns.heatmap(conf_matrix, annot=True, fmt=\"d\", cmap=\"Blues\", xticklabels=['Not Survived', 'Survived'], yticklabels=['Not Survived', 'Survived'])\n",
        "plt.xlabel('Predicted')\n",
        "plt.ylabel('Actual')\n",
        "plt.title('Confusion Matrix')\n",
        "plt.show()\n",
        "\n",
        "# Step 7: Prediction on Test Data and Output Results\n",
        "test_pred = best_rf_model.predict(test_X)\n",
        "submission = pd.DataFrame({\n",
        "    \"PassengerId\": test_df[\"PassengerId\"],\n",
        "    \"Survived\": test_pred\n",
        "})\n",
        "submission.to_csv(\"titanic_predictions.csv\", index=False)\n",
        "\n",
        "print(\"Prediction completed and saved to 'titanic_predictions.csv'\")\n"
      ]
    }
  ]
}